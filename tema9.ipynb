{
 "cells": [
  {
   "cell_type": "code",
   "id": "initial_id",
   "metadata": {
    "collapsed": true,
    "ExecuteTime": {
     "end_time": "2025-01-22T03:34:54.654228Z",
     "start_time": "2025-01-22T03:34:54.633880Z"
    }
   },
   "source": [
    "import pandas as pd\n",
    "import json\n",
    "import numpy as np\n",
    "import seaborn as sns\n",
    "import matplotlib.pyplot as plt"
   ],
   "outputs": [
    {
     "ename": "ModuleNotFoundError",
     "evalue": "No module named 'tema8'",
     "output_type": "error",
     "traceback": [
      "\u001B[1;31m---------------------------------------------------------------------------\u001B[0m",
      "\u001B[1;31mModuleNotFoundError\u001B[0m                       Traceback (most recent call last)",
      "Cell \u001B[1;32mIn[51], line 6\u001B[0m\n\u001B[0;32m      4\u001B[0m \u001B[38;5;28;01mimport\u001B[39;00m \u001B[38;5;21;01mseaborn\u001B[39;00m \u001B[38;5;28;01mas\u001B[39;00m \u001B[38;5;21;01msns\u001B[39;00m\n\u001B[0;32m      5\u001B[0m \u001B[38;5;28;01mimport\u001B[39;00m \u001B[38;5;21;01mmatplotlib\u001B[39;00m\u001B[38;5;21;01m.\u001B[39;00m\u001B[38;5;21;01mpyplot\u001B[39;00m \u001B[38;5;28;01mas\u001B[39;00m \u001B[38;5;21;01mplt\u001B[39;00m\n\u001B[1;32m----> 6\u001B[0m \u001B[38;5;28;01mfrom\u001B[39;00m \u001B[38;5;21;01mtema8\u001B[39;00m \u001B[38;5;28;01mimport\u001B[39;00m data_flat_clean\n",
      "\u001B[1;31mModuleNotFoundError\u001B[0m: No module named 'tema8'"
     ]
    }
   ],
   "execution_count": 51
  },
  {
   "metadata": {
    "ExecuteTime": {
     "end_time": "2025-01-22T03:34:24.807609Z",
     "start_time": "2025-01-22T03:34:24.751698Z"
    }
   },
   "cell_type": "code",
   "source": [
    "# Leer los datos del archivo JSON\n",
    "data_raw = pd.read_json('Ventas_registro.json')"
   ],
   "id": "2d108a59035ba86a",
   "outputs": [],
   "execution_count": 48
  },
  {
   "metadata": {
    "ExecuteTime": {
     "end_time": "2025-01-22T03:34:26.358049Z",
     "start_time": "2025-01-22T03:34:26.214470Z"
    }
   },
   "cell_type": "code",
   "source": [
    "# Desanidamos los productos para usar los valores anidados (nombre - cantidad - total)\n",
    "data_flat = pd.json_normalize(data_raw.to_dict(orient='records'), record_path='productos', meta=['tipo_venta', 'fecha_venta', 'pago_total', 'cliente'])"
   ],
   "id": "5e6065055efd940f",
   "outputs": [],
   "execution_count": 50
  },
  {
   "metadata": {},
   "cell_type": "markdown",
   "source": "#### PREPARACIÓN DE DATOS - CONSTRUCCIÓN",
   "id": "ace0da196e1f94d0"
  },
  {
   "metadata": {},
   "cell_type": "markdown",
   "source": "##### GENERACIÓN DE DATOS",
   "id": "22b634df83abf865"
  },
  {
   "metadata": {},
   "cell_type": "markdown",
   "source": "1. ATRIBUTOS DERIVADOS",
   "id": "413284aec08e0934"
  },
  {
   "metadata": {
    "ExecuteTime": {
     "end_time": "2025-01-22T03:40:05.337356Z",
     "start_time": "2025-01-22T03:40:05.329670Z"
    }
   },
   "cell_type": "code",
   "source": [
    "# Calcular el precio unitario de cada producto\n",
    "data_flat['precio_unitario'] = data_flat['total'] / data_flat['cantidad']\n",
    "print(data_flat[['nombre', 'cantidad', 'total', 'precio_unitario']].head())"
   ],
   "id": "e7f4988d86772005",
   "outputs": [
    {
     "name": "stdout",
     "output_type": "stream",
     "text": [
      "                    nombre  cantidad  total  precio_unitario\n",
      "0         Pantalones capri         3  390.0            130.0\n",
      "1     Blusa bordada dorada         1   80.0             80.0\n",
      "2         leggings de yoga         2  160.0             80.0\n",
      "3          Vestido de lino         3  360.0            120.0\n",
      "4  Suerte oversized blanco         2   90.0             45.0\n"
     ]
    }
   ],
   "execution_count": 53
  },
  {
   "metadata": {
    "ExecuteTime": {
     "end_time": "2025-01-22T03:40:42.685002Z",
     "start_time": "2025-01-22T03:40:42.667049Z"
    }
   },
   "cell_type": "code",
   "source": [
    "# Total de productos vendidos en una venta\n",
    "data_raw['total_productos'] = data_flat.groupby(['fecha_venta', 'cliente'])['cantidad'].transform('sum')\n",
    "data_raw.head()"
   ],
   "id": "4596f2b922739aa4",
   "outputs": [
    {
     "data": {
      "text/plain": [
       "   tipo_venta fecha_venta                                          productos  \\\n",
       "0           0  11/03/2021  [{'nombre': 'Pantalones capri', 'cantidad': 3,...   \n",
       "1           1  04/03/2021  [{'nombre': 'Suerte oversized blanco', 'cantid...   \n",
       "2           0  06/02/2021  [{'nombre': 'pantalone chino azul', 'cantidad'...   \n",
       "3           1  19/02/2021  [{'nombre': 'Top cruzado', 'cantidad': 3, 'tot...   \n",
       "4           0  27/01/2021  [{'nombre': 'Blusa aflorado negro', 'cantidad'...   \n",
       "\n",
       "   pago_total          cliente  total_productos  \n",
       "0         990     Elias Medina                9  \n",
       "1         615  Gabriela Campos                9  \n",
       "2          70       Simon Luna                9  \n",
       "3         215      Jose Torres                9  \n",
       "4         305    Ramiro Guzman                7  "
      ],
      "text/html": [
       "<div>\n",
       "<style scoped>\n",
       "    .dataframe tbody tr th:only-of-type {\n",
       "        vertical-align: middle;\n",
       "    }\n",
       "\n",
       "    .dataframe tbody tr th {\n",
       "        vertical-align: top;\n",
       "    }\n",
       "\n",
       "    .dataframe thead th {\n",
       "        text-align: right;\n",
       "    }\n",
       "</style>\n",
       "<table border=\"1\" class=\"dataframe\">\n",
       "  <thead>\n",
       "    <tr style=\"text-align: right;\">\n",
       "      <th></th>\n",
       "      <th>tipo_venta</th>\n",
       "      <th>fecha_venta</th>\n",
       "      <th>productos</th>\n",
       "      <th>pago_total</th>\n",
       "      <th>cliente</th>\n",
       "      <th>total_productos</th>\n",
       "    </tr>\n",
       "  </thead>\n",
       "  <tbody>\n",
       "    <tr>\n",
       "      <th>0</th>\n",
       "      <td>0</td>\n",
       "      <td>11/03/2021</td>\n",
       "      <td>[{'nombre': 'Pantalones capri', 'cantidad': 3,...</td>\n",
       "      <td>990</td>\n",
       "      <td>Elias Medina</td>\n",
       "      <td>9</td>\n",
       "    </tr>\n",
       "    <tr>\n",
       "      <th>1</th>\n",
       "      <td>1</td>\n",
       "      <td>04/03/2021</td>\n",
       "      <td>[{'nombre': 'Suerte oversized blanco', 'cantid...</td>\n",
       "      <td>615</td>\n",
       "      <td>Gabriela Campos</td>\n",
       "      <td>9</td>\n",
       "    </tr>\n",
       "    <tr>\n",
       "      <th>2</th>\n",
       "      <td>0</td>\n",
       "      <td>06/02/2021</td>\n",
       "      <td>[{'nombre': 'pantalone chino azul', 'cantidad'...</td>\n",
       "      <td>70</td>\n",
       "      <td>Simon Luna</td>\n",
       "      <td>9</td>\n",
       "    </tr>\n",
       "    <tr>\n",
       "      <th>3</th>\n",
       "      <td>1</td>\n",
       "      <td>19/02/2021</td>\n",
       "      <td>[{'nombre': 'Top cruzado', 'cantidad': 3, 'tot...</td>\n",
       "      <td>215</td>\n",
       "      <td>Jose Torres</td>\n",
       "      <td>9</td>\n",
       "    </tr>\n",
       "    <tr>\n",
       "      <th>4</th>\n",
       "      <td>0</td>\n",
       "      <td>27/01/2021</td>\n",
       "      <td>[{'nombre': 'Blusa aflorado negro', 'cantidad'...</td>\n",
       "      <td>305</td>\n",
       "      <td>Ramiro Guzman</td>\n",
       "      <td>7</td>\n",
       "    </tr>\n",
       "  </tbody>\n",
       "</table>\n",
       "</div>"
      ]
     },
     "execution_count": 55,
     "metadata": {},
     "output_type": "execute_result"
    }
   ],
   "execution_count": 55
  },
  {
   "metadata": {},
   "cell_type": "markdown",
   "source": "2. REGISTROS GENERADOS",
   "id": "145982ca943a0d92"
  },
  {
   "metadata": {},
   "cell_type": "code",
   "source": [
    "# Ver si sirve ¿?\n",
    "clientes = data_raw['cliente'].unique()\n",
    "fechas = pd.date_range(start=\"2021-01-01\", end=\"2023-12-31\", freq='ME')\n",
    "registros_faltantes = pd.DataFrame([(c, f) for c in clientes for f in fechas], columns=['cliente', 'fecha_venta'])\n",
    "print(registros_faltantes.head(100))\n"
   ],
   "id": "cd426a0a5e73357e",
   "outputs": [],
   "execution_count": null
  },
  {
   "metadata": {},
   "cell_type": "markdown",
   "source": "##### TRANSFORMACIÓN DE DATOS",
   "id": "e5b30665a2e56389"
  },
  {
   "metadata": {},
   "cell_type": "code",
   "source": [
    "# Formatear el tipo de dato fecha_venta a datetime64\n",
    "data_raw['fecha_venta'] = pd.to_datetime(data_raw['fecha_venta'], format='%d/%m/%Y')\n",
    "data_flat['fecha_venta'] = pd.to_datetime(data_flat['fecha_venta'], format='%d/%m/%Y')\n",
    "print(data_flat['fecha_venta'].head())"
   ],
   "id": "641b8fe9f484da85",
   "outputs": [],
   "execution_count": null
  },
  {
   "metadata": {},
   "cell_type": "markdown",
   "source": "1. SUAVIZADO",
   "id": "1c58a914b3ac80f3"
  },
  {
   "metadata": {},
   "cell_type": "code",
   "source": "",
   "id": "5052aa7c92ffc4d1",
   "outputs": [],
   "execution_count": null
  },
  {
   "metadata": {},
   "cell_type": "markdown",
   "source": "2. AGREGACIÓN",
   "id": "9c079bd070bdf84a"
  },
  {
   "metadata": {},
   "cell_type": "code",
   "source": [
    "# Calcular ventas mensuales por producto\n",
    "data_flat['mes'] = pd.to_datetime(data_flat['fecha_venta']).dt.to_period('M')\n",
    "ventas_mensuales = data_flat.groupby(['mes', 'nombre'])['cantidad'].sum().reset_index()\n",
    "data_flat.head(500)"
   ],
   "id": "97ae058f4bc62607",
   "outputs": [],
   "execution_count": null
  },
  {
   "metadata": {},
   "cell_type": "markdown",
   "source": "3. DISCRETIZACIÓN",
   "id": "8935bac6efa9ace7"
  },
  {
   "metadata": {},
   "cell_type": "code",
   "source": "data_flat = data_flat.drop(columns=['mes'])\n",
   "id": "31bcc98c82661e6f",
   "outputs": [],
   "execution_count": null
  },
  {
   "metadata": {},
   "cell_type": "markdown",
   "source": "4. CONSTRUCCIÓN DE ATRIBUTOS",
   "id": "399231b6365aa28e"
  },
  {
   "metadata": {
    "ExecuteTime": {
     "end_time": "2025-01-22T00:27:49.322054Z",
     "start_time": "2025-01-22T00:27:49.309490Z"
    }
   },
   "cell_type": "code",
   "source": [
    "# Creación de un nuevo atributo par tipo_venta\n",
    "data_raw['tipo_venta_label'] = data_raw['tipo_venta'].map({0: 'Estándar', 1: 'Promoción'})\n",
    "data_raw.head()"
   ],
   "id": "d78b5bbb6168e340",
   "outputs": [
    {
     "data": {
      "text/plain": [
       "   tipo_venta fecha_venta                                          productos  \\\n",
       "0           0  2021-03-11  [{'nombre': 'Pantalones capri', 'cantidad': 3,...   \n",
       "1           1  2021-03-04  [{'nombre': 'Suerte oversized blanco', 'cantid...   \n",
       "2           0  2021-02-06  [{'nombre': 'pantalone chino azul', 'cantidad'...   \n",
       "3           1  2021-02-19  [{'nombre': 'Top cruzado', 'cantidad': 3, 'tot...   \n",
       "4           0  2021-01-27  [{'nombre': 'Blusa aflorado negro', 'cantidad'...   \n",
       "\n",
       "   pago_total          cliente  total_productos tipo_venta_label  \n",
       "0         990     Elias Medina                9         Estándar  \n",
       "1         615  Gabriela Campos                9        Promoción  \n",
       "2          70       Simon Luna                9         Estándar  \n",
       "3         215      Jose Torres                9        Promoción  \n",
       "4         305    Ramiro Guzman                7         Estándar  "
      ],
      "text/html": [
       "<div>\n",
       "<style scoped>\n",
       "    .dataframe tbody tr th:only-of-type {\n",
       "        vertical-align: middle;\n",
       "    }\n",
       "\n",
       "    .dataframe tbody tr th {\n",
       "        vertical-align: top;\n",
       "    }\n",
       "\n",
       "    .dataframe thead th {\n",
       "        text-align: right;\n",
       "    }\n",
       "</style>\n",
       "<table border=\"1\" class=\"dataframe\">\n",
       "  <thead>\n",
       "    <tr style=\"text-align: right;\">\n",
       "      <th></th>\n",
       "      <th>tipo_venta</th>\n",
       "      <th>fecha_venta</th>\n",
       "      <th>productos</th>\n",
       "      <th>pago_total</th>\n",
       "      <th>cliente</th>\n",
       "      <th>total_productos</th>\n",
       "      <th>tipo_venta_label</th>\n",
       "    </tr>\n",
       "  </thead>\n",
       "  <tbody>\n",
       "    <tr>\n",
       "      <th>0</th>\n",
       "      <td>0</td>\n",
       "      <td>2021-03-11</td>\n",
       "      <td>[{'nombre': 'Pantalones capri', 'cantidad': 3,...</td>\n",
       "      <td>990</td>\n",
       "      <td>Elias Medina</td>\n",
       "      <td>9</td>\n",
       "      <td>Estándar</td>\n",
       "    </tr>\n",
       "    <tr>\n",
       "      <th>1</th>\n",
       "      <td>1</td>\n",
       "      <td>2021-03-04</td>\n",
       "      <td>[{'nombre': 'Suerte oversized blanco', 'cantid...</td>\n",
       "      <td>615</td>\n",
       "      <td>Gabriela Campos</td>\n",
       "      <td>9</td>\n",
       "      <td>Promoción</td>\n",
       "    </tr>\n",
       "    <tr>\n",
       "      <th>2</th>\n",
       "      <td>0</td>\n",
       "      <td>2021-02-06</td>\n",
       "      <td>[{'nombre': 'pantalone chino azul', 'cantidad'...</td>\n",
       "      <td>70</td>\n",
       "      <td>Simon Luna</td>\n",
       "      <td>9</td>\n",
       "      <td>Estándar</td>\n",
       "    </tr>\n",
       "    <tr>\n",
       "      <th>3</th>\n",
       "      <td>1</td>\n",
       "      <td>2021-02-19</td>\n",
       "      <td>[{'nombre': 'Top cruzado', 'cantidad': 3, 'tot...</td>\n",
       "      <td>215</td>\n",
       "      <td>Jose Torres</td>\n",
       "      <td>9</td>\n",
       "      <td>Promoción</td>\n",
       "    </tr>\n",
       "    <tr>\n",
       "      <th>4</th>\n",
       "      <td>0</td>\n",
       "      <td>2021-01-27</td>\n",
       "      <td>[{'nombre': 'Blusa aflorado negro', 'cantidad'...</td>\n",
       "      <td>305</td>\n",
       "      <td>Ramiro Guzman</td>\n",
       "      <td>7</td>\n",
       "      <td>Estándar</td>\n",
       "    </tr>\n",
       "  </tbody>\n",
       "</table>\n",
       "</div>"
      ]
     },
     "execution_count": 47,
     "metadata": {},
     "output_type": "execute_result"
    }
   ],
   "execution_count": 47
  },
  {
   "metadata": {},
   "cell_type": "markdown",
   "source": "5. GENERALIZACIÓN",
   "id": "412f9ed759f9a9ef"
  },
  {
   "metadata": {},
   "cell_type": "code",
   "source": "",
   "id": "d94fd28c71e8f34b",
   "outputs": [],
   "execution_count": null
  },
  {
   "metadata": {},
   "cell_type": "markdown",
   "source": "6. NORMALIZACIÓN",
   "id": "68f2d0c31c674fac"
  },
  {
   "metadata": {},
   "cell_type": "code",
   "source": "",
   "id": "8569f2959929f5fd",
   "outputs": [],
   "execution_count": null
  },
  {
   "metadata": {},
   "cell_type": "markdown",
   "source": "",
   "id": "b0a52fe7f4a41bd1"
  }
 ],
 "metadata": {
  "kernelspec": {
   "display_name": "Python 3",
   "language": "python",
   "name": "python3"
  },
  "language_info": {
   "codemirror_mode": {
    "name": "ipython",
    "version": 2
   },
   "file_extension": ".py",
   "mimetype": "text/x-python",
   "name": "python",
   "nbconvert_exporter": "python",
   "pygments_lexer": "ipython2",
   "version": "2.7.6"
  }
 },
 "nbformat": 4,
 "nbformat_minor": 5
}
