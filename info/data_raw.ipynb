{
 "cells": [
  {
   "cell_type": "code",
   "id": "initial_id",
   "metadata": {
    "collapsed": true,
    "ExecuteTime": {
     "end_time": "2025-01-19T00:35:18.247849Z",
     "start_time": "2025-01-19T00:35:18.243272Z"
    }
   },
   "source": [
    "import pandas as pd\n",
    "import json\n",
    "import numpy as np\n",
    "import seaborn as sns\n",
    "import matplotlib.pyplot as plt\n",
    "import missingno as msno\n",
    "from scipy.stats import zscore"
   ],
   "outputs": [],
   "execution_count": 78
  },
  {
   "metadata": {},
   "cell_type": "markdown",
   "source": "#### IMPORTAR DATOS DEL JSON",
   "id": "828ecb5ccf710e70"
  },
  {
   "metadata": {},
   "cell_type": "code",
   "source": [
    "# Leer los datos del archivo JSON\n",
    "data_raw = pd.read_json('./Ventas_registro.json')"
   ],
   "id": "2e55119158f1f061",
   "outputs": [],
   "execution_count": null
  },
  {
   "metadata": {},
   "cell_type": "markdown",
   "source": "#### ANALIZAR INFORMACIÓN BÁSICA",
   "id": "1b3cf32271bd64cd"
  },
  {
   "metadata": {},
   "cell_type": "code",
   "source": [
    "# Primeras 10 filas\n",
    "print(data_raw.head(10))"
   ],
   "id": "4b29427c29076242",
   "outputs": [],
   "execution_count": null
  },
  {
   "metadata": {},
   "cell_type": "code",
   "source": [
    "# Dimensión del dataset\n",
    "data_raw.shape"
   ],
   "id": "2ddb5e9701574058",
   "outputs": [],
   "execution_count": null
  },
  {
   "metadata": {},
   "cell_type": "code",
   "source": [
    "# Nombre de las columnas\n",
    "data_raw.columns.values"
   ],
   "id": "1ef2a31a81275bd6",
   "outputs": [],
   "execution_count": null
  },
  {
   "metadata": {},
   "cell_type": "code",
   "source": [
    "# Tipo de datos\n",
    "data_raw.dtypes"
   ],
   "id": "474492b843808ca0",
   "outputs": [],
   "execution_count": null
  },
  {
   "metadata": {},
   "cell_type": "code",
   "source": [
    "# Información de los datos\n",
    "data_raw.info()"
   ],
   "id": "b15f64f5d334c8e4",
   "outputs": [],
   "execution_count": null
  },
  {
   "metadata": {},
   "cell_type": "markdown",
   "source": "------",
   "id": "e71486bfa4ddde11"
  },
  {
   "metadata": {},
   "cell_type": "code",
   "source": [
    "# Resumen de datos numéricos\n",
    "data_raw.describe()"
   ],
   "id": "b4d94f0cdd5d12da",
   "outputs": [],
   "execution_count": null
  },
  {
   "metadata": {},
   "cell_type": "code",
   "source": [
    "# Resumen de datos categoricos\n",
    "data_raw.describe(include=['object'])"
   ],
   "id": "143bb7c94cc6f490",
   "outputs": [],
   "execution_count": null
  },
  {
   "metadata": {},
   "cell_type": "markdown",
   "source": "#### ANALIZAR VALORES AUSENTES (MISSING)",
   "id": "548311ff5fb6c591"
  },
  {
   "metadata": {},
   "cell_type": "code",
   "source": "pd.isnull(data_raw[\"tipo_venta\"])",
   "id": "20f5a469cc0989a8",
   "outputs": [],
   "execution_count": null
  },
  {
   "metadata": {},
   "cell_type": "code",
   "source": "pd.isnull(data_raw[\"fecha_venta\"])",
   "id": "2e3903203d57bc19",
   "outputs": [],
   "execution_count": null
  },
  {
   "metadata": {},
   "cell_type": "code",
   "source": "pd.isnull(data_raw[\"pago_total\"])",
   "id": "452597fcd9bb8960",
   "outputs": [],
   "execution_count": null
  },
  {
   "metadata": {},
   "cell_type": "code",
   "source": "pd.isnull(data_raw[\"cliente\"])",
   "id": "d4f5b15abb37ef58",
   "outputs": [],
   "execution_count": null
  },
  {
   "metadata": {},
   "cell_type": "markdown",
   "source": "------",
   "id": "7b6a15592a585a7d"
  },
  {
   "metadata": {},
   "cell_type": "code",
   "source": "pd.isnull(data_raw[\"tipo_venta\"]).values.ravel().sum()",
   "id": "cef407bb3f702f4f",
   "outputs": [],
   "execution_count": null
  },
  {
   "metadata": {},
   "cell_type": "code",
   "source": "pd.isnull(data_raw[\"fecha_venta\"]).values.ravel().sum()",
   "id": "e96a6ae83f0cac4f",
   "outputs": [],
   "execution_count": null
  },
  {
   "metadata": {},
   "cell_type": "code",
   "source": "pd.isnull(data_raw[\"pago_total\"]).values.ravel().sum()",
   "id": "d1750f0b9972cb62",
   "outputs": [],
   "execution_count": null
  },
  {
   "metadata": {},
   "cell_type": "code",
   "source": "pd.isnull(data_raw[\"cliente\"]).values.ravel().sum()",
   "id": "d04145b093f6ade",
   "outputs": [],
   "execution_count": null
  },
  {
   "metadata": {},
   "cell_type": "markdown",
   "source": "#### ANALIZAR GRÁFICOS",
   "id": "3218e5654f9c8f61"
  },
  {
   "metadata": {},
   "cell_type": "code",
   "source": [
    "sns.countplot(x=data_raw['tipo_venta'])\n",
    "plt.title('Cantidad de Ventas por Tipo (0 - Estándar, 1 - Promoción)')\n",
    "plt.xlabel('Tipo de Venta')\n",
    "plt.ylabel('Cantidad')\n",
    "plt.show()"
   ],
   "id": "44981bda3b9c8e40",
   "outputs": [],
   "execution_count": null
  },
  {
   "metadata": {},
   "cell_type": "code",
   "source": [
    "data_raw['fecha_venta'] = pd.to_datetime(data_raw['fecha_venta'], format='%d/%m/%Y')\n",
    "sns.countplot(x=data_raw['fecha_venta'].dt.month)\n",
    "plt.title('Cantidad de Ventas por Mes')\n",
    "plt.xlabel('Mes')\n",
    "plt.ylabel('Número de Ventas')\n",
    "plt.show()"
   ],
   "id": "585865c739549d3",
   "outputs": [],
   "execution_count": null
  },
  {
   "metadata": {
    "ExecuteTime": {
     "end_time": "2025-01-19T00:30:29.417837Z",
     "start_time": "2025-01-19T00:30:29.341321Z"
    }
   },
   "cell_type": "code",
   "source": [
    "sns.boxplot(x=data_raw['pago_total'])\n",
    "plt.title('Distribución del Pago Total')\n",
    "plt.xlabel('Pago Total')\n",
    "plt.show()"
   ],
   "id": "ac6fba1e36046918",
   "outputs": [
    {
     "data": {
      "text/plain": [
       "<Figure size 640x480 with 1 Axes>"
      ],
      "image/png": "[encoded data removed]"
     },
     "metadata": {},
     "output_type": "display_data"
    }
   ],
   "execution_count": 77
  },
  {
   "metadata": {},
   "cell_type": "code",
   "source": "# Para cliente no se puede realizar gráfica por tener valores muy largos",
   "id": "3c06fb4d13ebbbf8",
   "outputs": [],
   "execution_count": null
  },
  {
   "metadata": {},
   "cell_type": "markdown",
   "source": "------",
   "id": "3e2792ff8ff09ed7"
  },
  {
   "metadata": {},
   "cell_type": "code",
   "source": [
    "# Gráfico con todas las variables\n",
    "plt.figure(figsize=(20,8))\n",
    "sns.boxplot(data=data_raw)\n",
    "plt.show()"
   ],
   "id": "eff933d323816b",
   "outputs": [],
   "execution_count": null
  },
  {
   "metadata": {},
   "cell_type": "markdown",
   "source": "#### ANALIZAR VALORES AUSENTES (GENERAL)",
   "id": "35ab4b5428878d98"
  },
  {
   "metadata": {},
   "cell_type": "code",
   "source": [
    "#Análisis de los valores ausentes\n",
    "data_raw.isnull().sum()"
   ],
   "id": "671d435272ee2350",
   "outputs": [],
   "execution_count": null
  },
  {
   "metadata": {},
   "cell_type": "code",
   "source": [
    "#Porcentaje de los valores ausentes\n",
    "data_raw.isnull().sum()/data_raw.shape[0]*100"
   ],
   "id": "a428d68bcb67b0c4",
   "outputs": [],
   "execution_count": null
  },
  {
   "metadata": {},
   "cell_type": "code",
   "source": [
    "#Mapa de calor de missing\n",
    "sns.heatmap(data_raw.isnull(), cbar=False, cmap=\"bwr\")\n",
    "plt.show()"
   ],
   "id": "cd2778771e290be5",
   "outputs": [],
   "execution_count": null
  },
  {
   "metadata": {},
   "cell_type": "code",
   "source": [
    "#Matriz de representación\n",
    "msno.matrix(data_raw, figsize=(12,6))\n",
    "plt.show()"
   ],
   "id": "94815e6a52c33ab3",
   "outputs": [],
   "execution_count": null
  },
  {
   "metadata": {},
   "cell_type": "code",
   "source": [
    "#Representación de missing\n",
    "msno.bar(data_raw, figsize=(12,6))\n",
    "plt.show()"
   ],
   "id": "380fb8cfa75b80dc",
   "outputs": [],
   "execution_count": null
  },
  {
   "metadata": {},
   "cell_type": "code",
   "source": [
    "#Evaluar la correlación de nulidad: qué tan fuertemente la presencia o ausencia de una variable afecta la presencia de otra:\n",
    "msno.heatmap(data_raw, figsize=(12,6))\n",
    "plt.show()"
   ],
   "id": "a3ecaba8dd2c1354",
   "outputs": [],
   "execution_count": null
  },
  {
   "metadata": {},
   "cell_type": "code",
   "source": [
    "#El dendrograma permite correlacionar de forma más completa la compleción de variables #revela tendencias más profundas que las visibles por pares en el mapa de calor de correlación:\n",
    "msno.dendrogram(data_raw, figsize=(12,6))\n",
    "plt.show()"
   ],
   "id": "dc6a3f9d53c08ded",
   "outputs": [],
   "execution_count": null
  },
  {
   "metadata": {},
   "cell_type": "markdown",
   "source": "##### IDENTIFICAR VALORES OUTLIERS",
   "id": "b26daf40d41fff43"
  },
  {
   "metadata": {
    "ExecuteTime": {
     "end_time": "2025-01-19T00:35:53.388743Z",
     "start_time": "2025-01-19T00:35:53.384551Z"
    }
   },
   "cell_type": "code",
   "source": [
    "# Calcular el Z-score de la columna 'pago_total'\n",
    "data_raw['z_pago_total'] = zscore(data_raw['pago_total'])"
   ],
   "id": "d82a8a55dadee410",
   "outputs": [],
   "execution_count": 80
  }
 ],
 "metadata": {
  "kernelspec": {
   "display_name": "Python 3",
   "language": "python",
   "name": "python3"
  },
  "language_info": {
   "codemirror_mode": {
    "name": "ipython",
    "version": 2
   },
   "file_extension": ".py",
   "mimetype": "text/x-python",
   "name": "python",
   "nbconvert_exporter": "python",
   "pygments_lexer": "ipython2",
   "version": "2.7.6"
  }
 },
 "nbformat": 4,
 "nbformat_minor": 5
}
