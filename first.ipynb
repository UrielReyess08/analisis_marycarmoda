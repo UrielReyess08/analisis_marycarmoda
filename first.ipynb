{
 "cells": [
  {
   "cell_type": "code",
   "id": "initial_id",
   "metadata": {
    "collapsed": true
   },
   "source": [
    "import pandas as pd\n",
    "import json\n",
    "import numpy as np\n",
    "import seaborn as sns\n",
    "import matplotlib.pyplot as plt"
   ],
   "outputs": [],
   "execution_count": null
  },
  {
   "metadata": {},
   "cell_type": "code",
   "source": [
    "# Leer los datos del arhcivo JSON\n",
    "data = pd.read_json('Ventas_registro.json')"
   ],
   "id": "4d82150e71f93663",
   "outputs": [],
   "execution_count": null
  },
  {
   "metadata": {},
   "cell_type": "code",
   "source": "print(data.head())",
   "id": "a5536f3ac0b396f9",
   "outputs": [],
   "execution_count": null
  },
  {
   "metadata": {
    "ExecuteTime": {
     "end_time": "2024-12-15T00:23:25.498526Z",
     "start_time": "2024-12-15T00:23:25.377712Z"
    }
   },
   "cell_type": "code",
   "source": [
    "# Desanidamos los productos\n",
    "ventas = pd.json_normalize(data.to_dict(orient='records'), record_path='productos', meta=['tipo_venta', 'fecha_venta', 'pago_total', 'cliente'])"
   ],
   "id": "97af78ab85a1dd46",
   "outputs": [],
   "execution_count": 20
  },
  {
   "metadata": {
    "ExecuteTime": {
     "end_time": "2024-12-15T00:27:53.276455Z",
     "start_time": "2024-12-15T00:27:53.272247Z"
    }
   },
   "cell_type": "code",
   "source": "print(ventas.head())",
   "id": "2249eb3c4d1e0c4",
   "outputs": [
    {
     "name": "stdout",
     "output_type": "stream",
     "text": [
      "                               nombre  cantidad   total tipo_venta  \\\n",
      "0            Chaqueta de cuerina gris         1   135.0          0   \n",
      "1  Vestido de noche con encaje rosado         2   580.0          1   \n",
      "2              Falda de encaje marron         1    75.0          1   \n",
      "3              Vestido azul de fiesta         2   480.0          1   \n",
      "4             Chaqueta de lana blanco         3  1125.0          1   \n",
      "\n",
      "  fecha_venta pago_total           cliente  \n",
      "0  01/02/2021        135        Diego Leon  \n",
      "1  04/03/2021        980  Antonia Sandoval  \n",
      "2  04/03/2021        980  Antonia Sandoval  \n",
      "3  04/03/2021        980  Antonia Sandoval  \n",
      "4  04/03/2021        980  Antonia Sandoval  \n"
     ]
    }
   ],
   "execution_count": 23
  }
 ],
 "metadata": {
  "kernelspec": {
   "display_name": "Python 3",
   "language": "python",
   "name": "python3"
  },
  "language_info": {
   "codemirror_mode": {
    "name": "ipython",
    "version": 2
   },
   "file_extension": ".py",
   "mimetype": "text/x-python",
   "name": "python",
   "nbconvert_exporter": "python",
   "pygments_lexer": "ipython2",
   "version": "2.7.6"
  }
 },
 "nbformat": 4,
 "nbformat_minor": 5
}
