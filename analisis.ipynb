{
 "cells": [
  {
   "cell_type": "code",
   "id": "initial_id",
   "metadata": {
    "collapsed": true
   },
   "source": [
    "import pandas as pd\n",
    "import json\n",
    "import numpy as np\n",
    "import seaborn as sns\n",
    "import matplotlib.pyplot as plt"
   ],
   "outputs": [],
   "execution_count": null
  },
  {
   "metadata": {},
   "cell_type": "code",
   "source": [
    "# Leer los datos del archivo JSON\n",
    "data_raw = pd.read_json('Ventas_registro.json')"
   ],
   "id": "49d4eedace42fcb4",
   "outputs": [],
   "execution_count": null
  },
  {
   "metadata": {},
   "cell_type": "code",
   "source": [
    "# Desanidamos los productos para usar los valores anidados (nombre - cantidad - total)\n",
    "data_flat = pd.json_normalize(data_raw.to_dict(orient='records'), record_path='productos', meta=['tipo_venta', 'fecha_venta', 'pago_total', 'cliente'])\n",
    "\n",
    "# --- Convertir columnas al tipo de dato correcto ---\n",
    "# data_flat['pago_total'] = pd.to_numeric(data_flat['pago_total'], errors='coerce')\n",
    "# data_flat['tipo_venta'] = pd.to_numeric(data_flat['tipo_venta'], errors='coerce')"
   ],
   "id": "c34177d1165370c2",
   "outputs": [],
   "execution_count": null
  },
  {
   "metadata": {},
   "cell_type": "code",
   "source": [
    "# Primeras 10 filas\n",
    "print(data_raw.head(10))"
   ],
   "id": "899241270fd37acd",
   "outputs": [],
   "execution_count": null
  },
  {
   "metadata": {},
   "cell_type": "code",
   "source": [
    "# Dimensión del dataset\n",
    "data_raw.shape"
   ],
   "id": "8f7c2e60f008950a",
   "outputs": [],
   "execution_count": null
  },
  {
   "metadata": {},
   "cell_type": "code",
   "source": [
    "# Nombre de las columnas\n",
    "data_raw.columns.values"
   ],
   "id": "c339815c73b1dc93",
   "outputs": [],
   "execution_count": null
  },
  {
   "metadata": {},
   "cell_type": "code",
   "source": [
    "# Tipo de datos\n",
    "data_raw.dtypes"
   ],
   "id": "6b3fd8a7f8d13f7a",
   "outputs": [],
   "execution_count": null
  },
  {
   "metadata": {},
   "cell_type": "code",
   "source": [
    "# Información de los datos\n",
    "data_raw.info()"
   ],
   "id": "8945668b63b31faa",
   "outputs": [],
   "execution_count": null
  },
  {
   "metadata": {},
   "cell_type": "code",
   "source": [
    "# Resumen de datos numéricos\n",
    "data_raw.describe()"
   ],
   "id": "28b144fccb71fdd7",
   "outputs": [],
   "execution_count": null
  },
  {
   "metadata": {},
   "cell_type": "code",
   "source": [
    "# Resumen de datos categoricos\n",
    "data_raw.describe(include=['object'])"
   ],
   "id": "7c19c5eba2e57b54",
   "outputs": [],
   "execution_count": null
  },
  {
   "metadata": {},
   "cell_type": "markdown",
   "source": "#### ANÁLISIS DE LAS VARIABLES OBJETIVOS",
   "id": "cf86e89b304475b7"
  },
  {
   "metadata": {},
   "cell_type": "code",
   "source": [
    "# Valores ausentes (missing)\n",
    "pd.isnull(data_raw['tipo_venta'])"
   ],
   "id": "c209ea7bb2f05175",
   "outputs": [],
   "execution_count": null
  },
  {
   "metadata": {},
   "cell_type": "code",
   "source": [
    "# Valores ausentes (missing)\n",
    "pd.isnull(data_flat['cantidad'])"
   ],
   "id": "9db1767a679060ae",
   "outputs": [],
   "execution_count": null
  },
  {
   "metadata": {},
   "cell_type": "code",
   "source": "pd.isnull(data_raw['tipo_venta']).values.ravel().sum",
   "id": "316c7eb612b9bf72",
   "outputs": [],
   "execution_count": null
  },
  {
   "metadata": {},
   "cell_type": "code",
   "source": "pd.isnull(data_flat['cantidad']).values.ravel().sum",
   "id": "9c9f7fd8898d6d0",
   "outputs": [],
   "execution_count": null
  },
  {
   "metadata": {},
   "cell_type": "code",
   "source": [
    "# Recuento de valores\n",
    "data_raw['tipo_venta'].value_counts()"
   ],
   "id": "cf947e0fb8a3a13d",
   "outputs": [],
   "execution_count": null
  },
  {
   "metadata": {},
   "cell_type": "code",
   "source": [
    "# Recuento de valores\n",
    "data_flat['cantidad'].value_counts()"
   ],
   "id": "6d51894bc7eebc95",
   "outputs": [],
   "execution_count": null
  },
  {
   "metadata": {},
   "cell_type": "code",
   "source": [
    "# Análisis gráfico - tipo_venta\n",
    "sns.countplot(x=data_raw['tipo_venta'])\n",
    "plt.show()"
   ],
   "id": "85126af1696b63de",
   "outputs": [],
   "execution_count": null
  },
  {
   "metadata": {},
   "cell_type": "code",
   "source": [
    "# Análisis gráfico - cantidad\n",
    "sns.countplot(x=data_flat['cantidad'])\n",
    "plt.show()"
   ],
   "id": "4946d13d2e9db349",
   "outputs": [],
   "execution_count": null
  },
  {
   "metadata": {},
   "cell_type": "markdown",
   "source": "#### ANÁLISIS GRÁFICO DE LAS VARIABLES",
   "id": "d2c00d4ddab33287"
  },
  {
   "metadata": {},
   "cell_type": "code",
   "source": [
    "# No posible de interpretar por ser categórica\n",
    "sns.boxplot(x=data_raw['tipo_venta'])"
   ],
   "id": "a18a6743850844da",
   "outputs": [],
   "execution_count": null
  },
  {
   "metadata": {},
   "cell_type": "code",
   "source": [
    "# No posible de interpretar por ser categórica\n",
    "sns.boxplot(x=data_raw['fecha_venta'])"
   ],
   "id": "194bf822a718493c",
   "outputs": [],
   "execution_count": null
  },
  {
   "metadata": {},
   "cell_type": "code",
   "source": [
    "# No posible de interpretar por ser categórica\n",
    "sns.boxplot(x=data_flat['nombre'])"
   ],
   "id": "3fdfa020759d04c4",
   "outputs": [],
   "execution_count": null
  },
  {
   "metadata": {},
   "cell_type": "code",
   "source": "sns.boxplot(x=data_flat['cantidad'])",
   "id": "f548e8b6c223cf2f",
   "outputs": [],
   "execution_count": null
  },
  {
   "metadata": {},
   "cell_type": "code",
   "source": "sns.boxplot(x=data_flat['total'])",
   "id": "2e964e329f5ba8d5",
   "outputs": [],
   "execution_count": null
  },
  {
   "metadata": {},
   "cell_type": "code",
   "source": "sns.boxplot(x=data_raw['pago_total'])",
   "id": "6b119776d4fa0b11",
   "outputs": [],
   "execution_count": null
  },
  {
   "metadata": {},
   "cell_type": "code",
   "source": [
    "# No posible de interpretar por ser categórica\n",
    "sns.boxplot(x=data_raw['cliente'])"
   ],
   "id": "8541bd3281b800b",
   "outputs": [],
   "execution_count": null
  },
  {
   "metadata": {},
   "cell_type": "code",
   "source": [
    "# Gráfico con todas las variables\n",
    "plt.figure(figsize=(20,8))\n",
    "sns.boxplot(data=data_raw)\n",
    "plt.show()"
   ],
   "id": "b1125d7982155386",
   "outputs": [],
   "execution_count": null
  },
  {
   "metadata": {},
   "cell_type": "code",
   "source": [
    "# Gráfico con todas las variables (cantidad - total)\n",
    "plt.figure(figsize=(20,8))\n",
    "sns.boxplot(data=data_flat)\n",
    "plt.show()"
   ],
   "id": "ae9861c1f49a9bd3",
   "outputs": [],
   "execution_count": null
  },
  {
   "metadata": {},
   "cell_type": "code",
   "source": [
    "sns.boxplot(x=\"cantidad\", y=\"tipo_venta\", data=data_flat, linewidth=1)\n",
    "plt.show()"
   ],
   "id": "e82f2907f548842c",
   "outputs": [],
   "execution_count": null
  },
  {
   "metadata": {},
   "cell_type": "code",
   "source": "data_flat.boxplot(by=\"cantidad\", figsize=(12,6))",
   "id": "76c543c4b43db897",
   "outputs": [],
   "execution_count": null
  },
  {
   "metadata": {},
   "cell_type": "code",
   "source": "data_raw.tipo_venta.hist()",
   "id": "2fb0a2dc47a53693",
   "outputs": [],
   "execution_count": null
  },
  {
   "metadata": {},
   "cell_type": "code",
   "source": "data_raw.hist(edgecolor='black', linewidth=1.5, grid= False, figsize=(15, 8))",
   "id": "a58146e996c8bedf",
   "outputs": [],
   "execution_count": null
  },
  {
   "metadata": {},
   "cell_type": "code",
   "source": "data_flat.hist(edgecolor='black', linewidth=1.5, grid= False, figsize=(15, 8))",
   "id": "4ff02962f055124",
   "outputs": [],
   "execution_count": null
  },
  {
   "metadata": {},
   "cell_type": "code",
   "source": "data_flat.groupby('cantidad')['tipo_venta'].hist(alpha=0.9)",
   "id": "cf988b90c5c7cb45",
   "outputs": [],
   "execution_count": null
  },
  {
   "metadata": {},
   "cell_type": "code",
   "source": "sns.displot(data_flat[\"cantidad\"], bins=10)",
   "id": "f3b50b8556de6141",
   "outputs": [],
   "execution_count": null
  },
  {
   "metadata": {
    "ExecuteTime": {
     "end_time": "2025-01-07T05:57:03.671541Z",
     "start_time": "2025-01-07T05:57:03.663900Z"
    }
   },
   "cell_type": "code",
   "source": "data_raw.isnull().sum()",
   "id": "67fdab699ce4310b",
   "outputs": [
    {
     "data": {
      "text/plain": [
       "tipo_venta     0\n",
       "fecha_venta    0\n",
       "productos      0\n",
       "pago_total     0\n",
       "cliente        0\n",
       "dtype: int64"
      ]
     },
     "execution_count": 55,
     "metadata": {},
     "output_type": "execute_result"
    }
   ],
   "execution_count": 55
  }
 ],
 "metadata": {
  "kernelspec": {
   "display_name": "Python 3",
   "language": "python",
   "name": "python3"
  },
  "language_info": {
   "codemirror_mode": {
    "name": "ipython",
    "version": 2
   },
   "file_extension": ".py",
   "mimetype": "text/x-python",
   "name": "python",
   "nbconvert_exporter": "python",
   "pygments_lexer": "ipython2",
   "version": "2.7.6"
  }
 },
 "nbformat": 4,
 "nbformat_minor": 5
}
