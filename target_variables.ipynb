{
 "cells": [
  {
   "cell_type": "code",
   "id": "initial_id",
   "metadata": {
    "collapsed": true
   },
   "source": [
    "import pandas as pd\n",
    "import json\n",
    "import numpy as np\n",
    "import seaborn as sns\n",
    "import matplotlib.pyplot as plt"
   ],
   "outputs": [],
   "execution_count": null
  },
  {
   "metadata": {},
   "cell_type": "markdown",
   "source": "#### IMPORTAR DATOS DEL JSON",
   "id": "184ed2fa6961a422"
  },
  {
   "metadata": {},
   "cell_type": "code",
   "source": [
    "# Leer los datos del archivo JSON\n",
    "data_raw = pd.read_json('Ventas_registro.json')"
   ],
   "id": "49d4eedace42fcb4",
   "outputs": [],
   "execution_count": null
  },
  {
   "metadata": {},
   "cell_type": "code",
   "source": [
    "# Desanidamos los productos para usar los valores anidados (nombre - cantidad - total)\n",
    "data_flat = pd.json_normalize(data_raw.to_dict(orient='records'), record_path='productos', meta=['tipo_venta', 'fecha_venta', 'pago_total', 'cliente'])"
   ],
   "id": "c34177d1165370c2",
   "outputs": [],
   "execution_count": null
  },
  {
   "metadata": {},
   "cell_type": "markdown",
   "source": "#### ANALIZAR VARIABLES OBJETIVOS (tipo_venta - cantidad)",
   "id": "1efdb3d08a95d830"
  },
  {
   "metadata": {},
   "cell_type": "markdown",
   "source": "###### RECUENTO DE VALORES",
   "id": "b2dd6147ec8d8c7e"
  },
  {
   "metadata": {},
   "cell_type": "code",
   "source": [
    "# Recuento de valores\n",
    "data_raw['tipo_venta'].value_counts()"
   ],
   "id": "cf947e0fb8a3a13d",
   "outputs": [],
   "execution_count": null
  },
  {
   "metadata": {},
   "cell_type": "code",
   "source": [
    "# Recuento de valores\n",
    "data_flat['cantidad'].value_counts()"
   ],
   "id": "6d51894bc7eebc95",
   "outputs": [],
   "execution_count": null
  },
  {
   "metadata": {},
   "cell_type": "markdown",
   "source": "###### ANÁLIZAR GRÁFICOS",
   "id": "97102902a66330d7"
  },
  {
   "metadata": {},
   "cell_type": "code",
   "source": [
    "# Análisis gráfico - tipo_venta\n",
    "sns.countplot(x=data_raw['tipo_venta'])\n",
    "plt.xticks(ticks=[0, 1], labels=['Estándar', 'Promoción'])\n",
    "plt.show()"
   ],
   "id": "85126af1696b63de",
   "outputs": [],
   "execution_count": null
  },
  {
   "metadata": {},
   "cell_type": "code",
   "source": [
    "# Análisis gráfico - cantidad\n",
    "sns.countplot(x=data_flat['cantidad'])\n",
    "plt.show()"
   ],
   "id": "4946d13d2e9db349",
   "outputs": [],
   "execution_count": null
  },
  {
   "metadata": {},
   "cell_type": "markdown",
   "source": "-----",
   "id": "9d84d8e8ec9c6439"
  },
  {
   "metadata": {},
   "cell_type": "markdown",
   "source": "#### ANALIZAR GRÁFICOS: V. OBJETIVOS VERSUS COVARIABLES",
   "id": "471434ecf29148b"
  },
  {
   "metadata": {},
   "cell_type": "code",
   "source": [
    "# Análisis de la influencia del pago total en la elección del tipo de venta\n",
    "sns.boxplot(x=\"tipo_venta\", y=\"pago_total\", data=data_raw, linewidth=1)\n",
    "plt.title('Distribucion de Pago Total por Tipo de Venta')\n",
    "plt.xlabel('Tipo de Venta')\n",
    "plt.ylabel('Pago Total')\n",
    "plt.xticks(ticks=[0, 1], labels=['Estándar', 'Promoción'])\n",
    "plt.show()"
   ],
   "id": "784f8912a6320324",
   "outputs": [],
   "execution_count": null
  },
  {
   "metadata": {},
   "cell_type": "code",
   "source": [
    "# Análisis de meses de la fecha con tipo de venta\n",
    "data_raw['fecha_venta'] = pd.to_datetime(data_raw['fecha_venta'], format='%d/%m/%Y')\n",
    "data_raw['mes'] = data_raw['fecha_venta'].dt.month\n",
    "\n",
    "meses_con_ventas = data_raw['mes'].unique()\n",
    "data_filtrada = data_raw[data_raw['mes'].isin(meses_con_ventas)]\n",
    "\n",
    "\n",
    "sns.countplot(x='mes', hue='tipo_venta', data=data_filtrada)\n",
    "plt.title('Distribución de Tipos de Venta por Mes')\n",
    "plt.xlabel('Mes')\n",
    "plt.ylabel('Cantidad de Ventas')\n",
    "plt.xticks(ticks=range(0, 12), labels=[\n",
    "    'Enero', 'Febrero', 'Marzo', 'Abril', 'Mayo', 'Junio',\n",
    "    'Julio', 'Agosto', 'Septiembre', 'Octubre', 'Noviembre', 'Diciembre'\n",
    "], rotation=45)\n",
    "plt.legend(title='Tipo de Venta', labels=['Estándar', 'Promoción'])\n",
    "plt.show()"
   ],
   "id": "e82f2907f548842c",
   "outputs": [],
   "execution_count": null
  },
  {
   "metadata": {},
   "cell_type": "code",
   "source": [
    "# Análisis de cantidad con tipo de venta\n",
    "sns.boxplot(x='tipo_venta', y='cantidad', data=data_flat)\n",
    "plt.title('Cantidad de Productos por Tipo de Venta')\n",
    "plt.xlabel('Tipo de Venta')\n",
    "plt.ylabel('Cantidad de Productos')\n",
    "plt.xticks(ticks=[0, 1], labels=['Estándar', 'Promoción'])\n",
    "plt.show()"
   ],
   "id": "b99fc1d678e9a14f",
   "outputs": [],
   "execution_count": null
  },
  {
   "metadata": {},
   "cell_type": "markdown",
   "source": "--------",
   "id": "6b9bae12ac990d54"
  },
  {
   "metadata": {},
   "cell_type": "code",
   "source": "data_raw.boxplot(by=\"tipo_venta\", figsize=(12,6))",
   "id": "76c543c4b43db897",
   "outputs": [],
   "execution_count": null
  },
  {
   "metadata": {},
   "cell_type": "code",
   "source": "data_flat.boxplot(by=\"cantidad\", figsize=(12,6))",
   "id": "d78cd03270f48842",
   "outputs": [],
   "execution_count": null
  },
  {
   "metadata": {},
   "cell_type": "markdown",
   "source": "#### ANALIZAR HISTOGRAMAS",
   "id": "d9322aeb3b9c7fb8"
  },
  {
   "metadata": {},
   "cell_type": "code",
   "outputs": [],
   "execution_count": null,
   "source": "",
   "id": "c8d1ce257884718d"
  }
 ],
 "metadata": {
  "kernelspec": {
   "display_name": "Python 3",
   "language": "python",
   "name": "python3"
  },
  "language_info": {
   "codemirror_mode": {
    "name": "ipython",
    "version": 2
   },
   "file_extension": ".py",
   "mimetype": "text/x-python",
   "name": "python",
   "nbconvert_exporter": "python",
   "pygments_lexer": "ipython2",
   "version": "2.7.6"
  }
 },
 "nbformat": 4,
 "nbformat_minor": 5
}
