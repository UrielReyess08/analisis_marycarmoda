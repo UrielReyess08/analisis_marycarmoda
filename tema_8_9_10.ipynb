{
 "cells": [
  {
   "cell_type": "code",
   "id": "initial_id",
   "metadata": {
    "collapsed": true
   },
   "source": [
    "from statistics import median\n",
    "import pandas as pd\n",
    "import json\n",
    "import numpy as np\n",
    "import seaborn as sns\n",
    "import matplotlib.pyplot as plt"
   ],
   "outputs": [],
   "execution_count": null
  },
  {
   "metadata": {},
   "cell_type": "code",
   "source": [
    "# Leer los datos del archivo JSON\n",
    "data_raw = pd.read_json('./Ventas_registro.json')"
   ],
   "id": "ba8ca51c785dd630",
   "outputs": [],
   "execution_count": null
  },
  {
   "metadata": {},
   "cell_type": "code",
   "source": [
    "# Desanidamos los productos para usar los valores anidados (nombre - cantidad - total)\n",
    "data_flat = pd.json_normalize(data_raw.to_dict(orient='records'), record_path='productos', meta=['tipo_venta', 'fecha_venta', 'pago_total', 'cliente'])"
   ],
   "id": "7d525ad62a3e249c",
   "outputs": [],
   "execution_count": null
  },
  {
   "metadata": {},
   "cell_type": "markdown",
   "source": "### TEMA 8",
   "id": "1546ced59f815300"
  },
  {
   "metadata": {},
   "cell_type": "markdown",
   "source": "#### DEFINICIÓN DE VARIABLES CANTIDAD, TOTAL, PAGO_TOTAL",
   "id": "1fa334e4743b106f"
  },
  {
   "metadata": {},
   "cell_type": "code",
   "source": [
    "sns.boxplot(data=data_flat, x='cantidad', legend='auto')\n",
    "plt.title('Diagrama de Caja - cantidad de productos')\n",
    "plt.xlabel('Total de cantidad por Producto')\n",
    "plt.show()"
   ],
   "id": "dda26d44fbf8d9c5",
   "outputs": [],
   "execution_count": null
  },
  {
   "metadata": {},
   "cell_type": "code",
   "source": [
    "sns.boxplot(data=data_flat, x='total', legend='auto')\n",
    "plt.title('Diagrama de Caja - Total de productos')\n",
    "plt.xlabel('Total de Ventas por Producto')\n",
    "plt.show()"
   ],
   "id": "42ba0348f4bd7251",
   "outputs": [],
   "execution_count": null
  },
  {
   "metadata": {},
   "cell_type": "code",
   "source": [
    "sns.boxplot(data=data_flat, x='pago_total', legend='auto')\n",
    "plt.title('Diagrama de Caja - Pago total')\n",
    "plt.xlabel('Pago total de ventas')\n",
    "plt.show()"
   ],
   "id": "5f2bd65a65a657bf",
   "outputs": [],
   "execution_count": null
  },
  {
   "metadata": {},
   "cell_type": "markdown",
   "source": "#### Z-SCORE",
   "id": "9b70bee82749b10f"
  },
  {
   "metadata": {},
   "cell_type": "code",
   "source": [
    "from scipy.stats import zscore\n",
    "\n",
    "# Calcular el Z-score para `cantidad` y `total`\n",
    "data_flat['z_cantidad'] = zscore(data_flat['cantidad'])\n",
    "data_flat['z_total'] = zscore(data_flat['total'])\n",
    "\n",
    "# Filtrar los outliers (valores cuyo Z-score > 3 o <-3)\n",
    "data_flat_clean = data_flat[(data_flat['z_cantidad'].abs() <= 3) & (data_flat['z_total'].abs() <= 3)]\n",
    "\n",
    "# Eliminar las columnas z_cantidad y z_total para mantener la estructura original\n",
    "data_flat_clean = data_flat_clean.drop(['z_cantidad', 'z_total'], axis=1)\n",
    "\n",
    "# Ver los primeros registros de la tabla limpia\n",
    "print(data_flat_clean.shape)"
   ],
   "id": "5a1ef580e24be415",
   "outputs": [],
   "execution_count": null
  },
  {
   "metadata": {},
   "cell_type": "code",
   "source": [
    "from scipy.stats import zscore\n",
    "\n",
    "# Calcular el Z-score para la columna `pago_total`\n",
    "data_raw['z_pago_total'] = zscore(data_raw['pago_total'])\n",
    "\n",
    "# Filtrar los outliers (valores cuyo Z-score > 3 o <-3)\n",
    "data_raw_clean = data_raw[data_raw['z_pago_total'].abs() <= 3]\n",
    "\n",
    "# Eliminar la columna z_pago_total para mantener la estructura original\n",
    "data_raw_clean = data_raw_clean.drop(['z_pago_total'], axis=1)\n",
    "\n",
    "# Ver los primeros registros de la tabla limpia\n",
    "print(data_raw_clean.shape)"
   ],
   "id": "cd8cae4efc1d99a0",
   "outputs": [],
   "execution_count": null
  },
  {
   "metadata": {},
   "cell_type": "code",
   "source": [
    "# Boxplot de `pago_total` antes y después de limpiar outliers\n",
    "plt.figure(figsize=(12, 6))\n",
    "\n",
    "# Boxplot para `pago_total` en data_raw (antes de limpiar)\n",
    "sns.boxplot(x='status', y='pago_total', data=pd.DataFrame({\n",
    "    'pago_total': data_raw['pago_total'],\n",
    "    'status': ['Antes'] * len(data_raw)\n",
    "}), color='lightblue', width=0.4)\n",
    "\n",
    "# Boxplot para `pago_total` en data_raw_clean (después de limpiar)\n",
    "sns.boxplot(x='status', y='pago_total', data=pd.DataFrame({\n",
    "    'pago_total': data_raw_clean['pago_total'],\n",
    "    'status': ['Después'] * len(data_raw_clean)\n",
    "}), color='lightgreen', width=0.4)\n",
    "\n",
    "plt.title('Comparativa de Boxplot de pago_total: Antes vs Después de limpiar outliers')\n",
    "plt.ylabel('Pago Total')\n",
    "plt.show()"
   ],
   "id": "62e66e11f2fb0f7d",
   "outputs": [],
   "execution_count": null
  },
  {
   "metadata": {},
   "cell_type": "code",
   "source": [
    "# Boxplot para `cantidad` en data_flat (antes y después de limpiar outliers)\n",
    "plt.figure(figsize=(12, 6))\n",
    "\n",
    "# Boxplot para `cantidad` en data_flat (antes de limpiar)\n",
    "sns.boxplot(x='status', y='cantidad', data=pd.DataFrame({\n",
    "    'cantidad': data_flat['cantidad'],\n",
    "    'status': ['Antes'] * len(data_flat)\n",
    "}), color='lightblue', width=0.4)\n",
    "\n",
    "# Boxplot para `cantidad` en data_flat_clean (después de limpiar)\n",
    "sns.boxplot(x='status', y='cantidad', data=pd.DataFrame({\n",
    "    'cantidad': data_flat_clean['cantidad'],\n",
    "    'status': ['Después'] * len(data_flat_clean)\n",
    "}), color='lightgreen', width=0.4)\n",
    "\n",
    "plt.title('Comparativa de Boxplot de cantidad: Antes vs Después de limpiar outliers')\n",
    "plt.ylabel('Cantidad')\n",
    "plt.show()"
   ],
   "id": "befb40052819e0c",
   "outputs": [],
   "execution_count": null
  },
  {
   "metadata": {},
   "cell_type": "code",
   "source": [
    "# Boxplot para `total` en data_flat (antes y después de limpiar outliers)\n",
    "plt.figure(figsize=(12, 6))\n",
    "\n",
    "# Boxplot para `total` en data_flat (antes de limpiar)\n",
    "sns.boxplot(x='status', y='total', data=pd.DataFrame({\n",
    "    'total': data_flat['total'],\n",
    "    'status': ['Antes'] * len(data_flat)\n",
    "}), color='lightblue', width=0.4)\n",
    "\n",
    "# Boxplot para `total` en data_flat_clean (después de limpiar)\n",
    "sns.boxplot(x='status', y='total', data=pd.DataFrame({\n",
    "    'total': data_flat_clean['total'],\n",
    "    'status': ['Después'] * len(data_flat_clean)\n",
    "}), color='lightgreen', width=0.4)\n",
    "\n",
    "plt.title('Comparativa de Boxplot de total: Antes vs Después de limpiar outliers')\n",
    "plt.ylabel('Total')\n",
    "plt.show()"
   ],
   "id": "9b778f1b03c395db",
   "outputs": [],
   "execution_count": null
  },
  {
   "metadata": {},
   "cell_type": "markdown",
   "source": "### TEMA 9",
   "id": "3ca6d0d40565cea9"
  },
  {
   "metadata": {},
   "cell_type": "markdown",
   "source": "#### PREPARACIÓN DE DATOS - CONSTRUCCIÓN",
   "id": "393838f70d994efa"
  },
  {
   "metadata": {},
   "cell_type": "markdown",
   "source": "##### GENERACIÓN DE DATOS",
   "id": "c0f244309b187fc8"
  },
  {
   "metadata": {},
   "cell_type": "markdown",
   "source": "1. ATRIBUTOS DERIVADOS",
   "id": "74894e2950618f96"
  },
  {
   "metadata": {},
   "cell_type": "code",
   "source": [
    "# Calcular el precio unitario de cada producto\n",
    "data_flat_clean['precio_unitario'] = data_flat_clean['total'] / data_flat_clean['cantidad']\n",
    "print(data_flat_clean[['nombre', 'cantidad', 'total', 'precio_unitario']].head())"
   ],
   "id": "f38beea798c0779c",
   "outputs": [],
   "execution_count": null
  },
  {
   "metadata": {},
   "cell_type": "code",
   "source": [
    "# Total de productos vendidos en una venta\n",
    "data_raw_clean['total_productos'] = data_flat_clean.groupby(['fecha_venta', 'cliente'])['cantidad'].transform('sum')\n",
    "data_raw_clean.head()"
   ],
   "id": "b0629263cf1adaff",
   "outputs": [],
   "execution_count": null
  },
  {
   "metadata": {},
   "cell_type": "markdown",
   "source": "##### TRANSFORMACIÓN DE DATOS",
   "id": "9734b51c9857c6d1"
  },
  {
   "metadata": {},
   "cell_type": "code",
   "source": [
    "# Formatear el tipo de dato fecha_venta a datetime64\n",
    "data_raw_clean['fecha_venta'] = pd.to_datetime(data_raw_clean['fecha_venta'], format='%d/%m/%Y')\n",
    "data_flat_clean['fecha_venta'] = pd.to_datetime(data_flat_clean['fecha_venta'], format='%d/%m/%Y')\n",
    "print(data_flat_clean['fecha_venta'].head())"
   ],
   "id": "8c2a257abb8dc287",
   "outputs": [],
   "execution_count": null
  },
  {
   "metadata": {},
   "cell_type": "markdown",
   "source": "1. AGREGACIÓN",
   "id": "31bf5183c350b6f6"
  },
  {
   "metadata": {},
   "cell_type": "code",
   "source": [
    "# Calcular ventas mensuales por producto ¿?\n",
    "data_flat_clean['mes'] = pd.to_datetime(data_flat_clean['fecha_venta']).dt.to_period('M')\n",
    "ventas_mensuales = data_flat_clean.groupby(['mes', 'nombre'])['cantidad'].sum().reset_index()\n",
    "data_flat_clean.head(500)"
   ],
   "id": "2e59c6456f43e501",
   "outputs": [],
   "execution_count": null
  },
  {
   "metadata": {},
   "cell_type": "markdown",
   "source": "2. CONSTRUCCIÓN DE ATRIBUTOS",
   "id": "3e41a85d140c055c"
  },
  {
   "metadata": {
    "ExecuteTime": {
     "end_time": "2025-01-22T03:45:05.683651Z",
     "start_time": "2025-01-22T03:45:05.673305Z"
    }
   },
   "cell_type": "code",
   "source": [
    "# Creación de un nuevo atributo par tipo_venta\n",
    "data_raw_clean['tipo_venta_label'] = data_raw_clean['tipo_venta'].map({0: 'Estándar', 1: 'Promoción'})\n",
    "data_raw_clean.head()"
   ],
   "id": "a71f010040290137",
   "outputs": [
    {
     "data": {
      "text/plain": [
       "   tipo_venta fecha_venta                                          productos  \\\n",
       "0           0  2021-03-11  [{'nombre': 'Pantalones capri', 'cantidad': 3,...   \n",
       "1           1  2021-03-04  [{'nombre': 'Suerte oversized blanco', 'cantid...   \n",
       "2           0  2021-02-06  [{'nombre': 'pantalone chino azul', 'cantidad'...   \n",
       "3           1  2021-02-19  [{'nombre': 'Top cruzado', 'cantidad': 3, 'tot...   \n",
       "4           0  2021-01-27  [{'nombre': 'Blusa aflorado negro', 'cantidad'...   \n",
       "\n",
       "   pago_total          cliente  total_productos tipo_venta_label  \n",
       "0         990     Elias Medina              9.0         Estándar  \n",
       "1         615  Gabriela Campos              9.0        Promoción  \n",
       "2          70       Simon Luna              9.0         Estándar  \n",
       "3         215      Jose Torres              9.0        Promoción  \n",
       "4         305    Ramiro Guzman              7.0         Estándar  "
      ],
      "text/html": [
       "<div>\n",
       "<style scoped>\n",
       "    .dataframe tbody tr th:only-of-type {\n",
       "        vertical-align: middle;\n",
       "    }\n",
       "\n",
       "    .dataframe tbody tr th {\n",
       "        vertical-align: top;\n",
       "    }\n",
       "\n",
       "    .dataframe thead th {\n",
       "        text-align: right;\n",
       "    }\n",
       "</style>\n",
       "<table border=\"1\" class=\"dataframe\">\n",
       "  <thead>\n",
       "    <tr style=\"text-align: right;\">\n",
       "      <th></th>\n",
       "      <th>tipo_venta</th>\n",
       "      <th>fecha_venta</th>\n",
       "      <th>productos</th>\n",
       "      <th>pago_total</th>\n",
       "      <th>cliente</th>\n",
       "      <th>total_productos</th>\n",
       "      <th>tipo_venta_label</th>\n",
       "    </tr>\n",
       "  </thead>\n",
       "  <tbody>\n",
       "    <tr>\n",
       "      <th>0</th>\n",
       "      <td>0</td>\n",
       "      <td>2021-03-11</td>\n",
       "      <td>[{'nombre': 'Pantalones capri', 'cantidad': 3,...</td>\n",
       "      <td>990</td>\n",
       "      <td>Elias Medina</td>\n",
       "      <td>9.0</td>\n",
       "      <td>Estándar</td>\n",
       "    </tr>\n",
       "    <tr>\n",
       "      <th>1</th>\n",
       "      <td>1</td>\n",
       "      <td>2021-03-04</td>\n",
       "      <td>[{'nombre': 'Suerte oversized blanco', 'cantid...</td>\n",
       "      <td>615</td>\n",
       "      <td>Gabriela Campos</td>\n",
       "      <td>9.0</td>\n",
       "      <td>Promoción</td>\n",
       "    </tr>\n",
       "    <tr>\n",
       "      <th>2</th>\n",
       "      <td>0</td>\n",
       "      <td>2021-02-06</td>\n",
       "      <td>[{'nombre': 'pantalone chino azul', 'cantidad'...</td>\n",
       "      <td>70</td>\n",
       "      <td>Simon Luna</td>\n",
       "      <td>9.0</td>\n",
       "      <td>Estándar</td>\n",
       "    </tr>\n",
       "    <tr>\n",
       "      <th>3</th>\n",
       "      <td>1</td>\n",
       "      <td>2021-02-19</td>\n",
       "      <td>[{'nombre': 'Top cruzado', 'cantidad': 3, 'tot...</td>\n",
       "      <td>215</td>\n",
       "      <td>Jose Torres</td>\n",
       "      <td>9.0</td>\n",
       "      <td>Promoción</td>\n",
       "    </tr>\n",
       "    <tr>\n",
       "      <th>4</th>\n",
       "      <td>0</td>\n",
       "      <td>2021-01-27</td>\n",
       "      <td>[{'nombre': 'Blusa aflorado negro', 'cantidad'...</td>\n",
       "      <td>305</td>\n",
       "      <td>Ramiro Guzman</td>\n",
       "      <td>7.0</td>\n",
       "      <td>Estándar</td>\n",
       "    </tr>\n",
       "  </tbody>\n",
       "</table>\n",
       "</div>"
      ]
     },
     "execution_count": 86,
     "metadata": {},
     "output_type": "execute_result"
    }
   ],
   "execution_count": 86
  },
  {
   "metadata": {},
   "cell_type": "markdown",
   "source": "### TEMA 10",
   "id": "4a0e4f05c1d4e339"
  },
  {
   "metadata": {},
   "cell_type": "code",
   "source": "",
   "id": "9beb4dfd3c960087",
   "outputs": [],
   "execution_count": null
  }
 ],
 "metadata": {
  "kernelspec": {
   "display_name": "Python 3",
   "language": "python",
   "name": "python3"
  },
  "language_info": {
   "codemirror_mode": {
    "name": "ipython",
    "version": 2
   },
   "file_extension": ".py",
   "mimetype": "text/x-python",
   "name": "python",
   "nbconvert_exporter": "python",
   "pygments_lexer": "ipython2",
   "version": "2.7.6"
  }
 },
 "nbformat": 4,
 "nbformat_minor": 5
}
