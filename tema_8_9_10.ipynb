{
 "cells": [
  {
   "cell_type": "code",
   "id": "initial_id",
   "metadata": {
    "collapsed": true
   },
   "source": [
    "from statistics import median\n",
    "import pandas as pd\n",
    "import json\n",
    "import numpy as np\n",
    "import seaborn as sns\n",
    "import matplotlib.pyplot as plt"
   ],
   "outputs": [],
   "execution_count": null
  },
  {
   "metadata": {},
   "cell_type": "code",
   "source": [
    "# Leer los datos del archivo JSON\n",
    "data_raw = pd.read_json('./Ventas_registro.json')"
   ],
   "id": "ba8ca51c785dd630",
   "outputs": [],
   "execution_count": null
  },
  {
   "metadata": {},
   "cell_type": "code",
   "source": [
    "# Desanidamos los productos para usar los valores anidados (nombre - cantidad - total)\n",
    "data_flat = pd.json_normalize(data_raw.to_dict(orient='records'), record_path='productos', meta=['tipo_venta', 'fecha_venta', 'pago_total', 'cliente'])"
   ],
   "id": "7d525ad62a3e249c",
   "outputs": [],
   "execution_count": null
  },
  {
   "metadata": {},
   "cell_type": "markdown",
   "source": "### TEMA 8",
   "id": "1546ced59f815300"
  },
  {
   "metadata": {},
   "cell_type": "markdown",
   "source": "#### DEFINICIÓN DE VARIABLES CANTIDAD, TOTAL, PAGO_TOTAL",
   "id": "1fa334e4743b106f"
  },
  {
   "metadata": {},
   "cell_type": "code",
   "source": [
    "sns.boxplot(data=data_flat, x='cantidad', legend='auto')\n",
    "plt.title('Diagrama de Caja - Cantidad')\n",
    "plt.xlabel('Total de cantidad del Producto')\n",
    "plt.show()"
   ],
   "id": "dda26d44fbf8d9c5",
   "outputs": [],
   "execution_count": null
  },
  {
   "metadata": {},
   "cell_type": "code",
   "source": [
    "sns.boxplot(data=data_flat, x='total', legend='auto')\n",
    "plt.title('Diagrama de Caja - Total')\n",
    "plt.xlabel('Valor total del producto')\n",
    "plt.show()"
   ],
   "id": "42ba0348f4bd7251",
   "outputs": [],
   "execution_count": null
  },
  {
   "metadata": {},
   "cell_type": "code",
   "source": [
    "sns.boxplot(data=data_flat, x='pago_total', legend='auto')\n",
    "plt.title('Diagrama de Caja - Pago Total')\n",
    "plt.xlabel('Pago total de las ventas')\n",
    "plt.show()"
   ],
   "id": "5f2bd65a65a657bf",
   "outputs": [],
   "execution_count": null
  },
  {
   "metadata": {},
   "cell_type": "markdown",
   "source": "#### Z-SCORE",
   "id": "9b70bee82749b10f"
  },
  {
   "metadata": {
    "ExecuteTime": {
     "end_time": "2025-01-23T03:18:41.592317Z",
     "start_time": "2025-01-23T03:18:41.570663Z"
    }
   },
   "cell_type": "code",
   "source": [
    "from scipy.stats import zscore\n",
    "\n",
    "# Calcular el Z-score para `cantidad` y `total`\n",
    "data_flat['z_cantidad'] = zscore(data_flat['cantidad'])\n",
    "data_flat['z_total'] = zscore(data_flat['total'])\n",
    "\n",
    "# Filtrar los outliers (valores cuyo Z-score > 3 o <-3)\n",
    "data_flat_clean = data_flat[(data_flat['z_cantidad'].abs() <= 3) & (data_flat['z_total'].abs() <= 3)]\n",
    "\n",
    "# Eliminar las columnas z_cantidad y z_total para mantener la estructura original\n",
    "data_flat_clean = data_flat_clean.drop(['z_cantidad', 'z_total'], axis=1)\n",
    "\n",
    "# Ver los primeros registros de la tabla limpia\n",
    "print(data_flat_clean.shape)"
   ],
   "id": "5a1ef580e24be415",
   "outputs": [
    {
     "name": "stdout",
     "output_type": "stream",
     "text": [
      "(29072, 7)\n"
     ]
    }
   ],
   "execution_count": 183
  },
  {
   "metadata": {
    "ExecuteTime": {
     "end_time": "2025-01-23T03:20:39.479177Z",
     "start_time": "2025-01-23T03:20:39.474391Z"
    }
   },
   "cell_type": "code",
   "source": [
    "# Número de filas en el dataframe original\n",
    "total_original = data_flat.shape[0]\n",
    "\n",
    "# Número de filas en el dataframe limpio (sin outliers)\n",
    "total_clean = data_flat_clean.shape[0]\n",
    "\n",
    "# Cantidad de valores outliers eliminados\n",
    "outliers_count = total_original - total_clean\n",
    "\n",
    "print(f\"Cantidad de outliers encontrados: {outliers_count}\")\n"
   ],
   "id": "b6669bc89e65c50e",
   "outputs": [
    {
     "name": "stdout",
     "output_type": "stream",
     "text": [
      "Cantidad de outliers encontrados: 276\n"
     ]
    }
   ],
   "execution_count": 185
  },
  {
   "metadata": {
    "ExecuteTime": {
     "end_time": "2025-01-23T03:19:01.392080Z",
     "start_time": "2025-01-23T03:19:01.379426Z"
    }
   },
   "cell_type": "code",
   "source": [
    "from scipy.stats import zscore\n",
    "\n",
    "# Calcular el Z-score para la columna `pago_total`\n",
    "data_raw['z_pago_total'] = zscore(data_raw['pago_total'])\n",
    "\n",
    "# Filtrar los outliers (valores cuyo Z-score > 3 o <-3)\n",
    "data_raw_clean = data_raw[data_raw['z_pago_total'].abs() <= 3]\n",
    "\n",
    "# Eliminar la columna z_pago_total para mantener la estructura original\n",
    "data_raw_clean = data_raw_clean.drop(['z_pago_total'], axis=1)\n",
    "\n",
    "# Ver los primeros registros de la tabla limpia\n",
    "print(data_raw_clean.shape)"
   ],
   "id": "cd8cae4efc1d99a0",
   "outputs": [
    {
     "name": "stdout",
     "output_type": "stream",
     "text": [
      "(9770, 5)\n"
     ]
    }
   ],
   "execution_count": 184
  },
  {
   "metadata": {
    "ExecuteTime": {
     "end_time": "2025-01-23T03:22:39.815192Z",
     "start_time": "2025-01-23T03:22:39.810463Z"
    }
   },
   "cell_type": "code",
   "source": [
    "# Número de filas en el dataframe original\n",
    "total_original = data_raw.shape[0]\n",
    "\n",
    "# Número de filas en el dataframe limpio (sin outliers)\n",
    "total_clean = data_raw_clean.shape[0]\n",
    "\n",
    "# Cantidad de valores outliers eliminados\n",
    "outliers_count = total_original - total_clean\n",
    "\n",
    "print(f\"Cantidad de outliers encontrados: {outliers_count}\")"
   ],
   "id": "4980b35cf67afa74",
   "outputs": [
    {
     "name": "stdout",
     "output_type": "stream",
     "text": [
      "Cantidad de outliers encontrados: 45\n"
     ]
    }
   ],
   "execution_count": 186
  },
  {
   "metadata": {},
   "cell_type": "code",
   "source": [
    "# Boxplot de `pago_total` antes y después de limpiar outliers\n",
    "plt.figure(figsize=(12, 6))\n",
    "\n",
    "# Boxplot para `pago_total` en data_raw (antes de limpiar)\n",
    "sns.boxplot(x='status', y='pago_total', data=pd.DataFrame({\n",
    "    'pago_total': data_raw['pago_total'],\n",
    "    'status': ['Antes'] * len(data_raw)\n",
    "}), color='lightblue', width=0.4)\n",
    "\n",
    "# Boxplot para `pago_total` en data_raw_clean (después de limpiar)\n",
    "sns.boxplot(x='status', y='pago_total', data=pd.DataFrame({\n",
    "    'pago_total': data_raw_clean['pago_total'],\n",
    "    'status': ['Después'] * len(data_raw_clean)\n",
    "}), color='lightgreen', width=0.4)\n",
    "\n",
    "plt.title('Comparativa de Boxplot de pago_total: Antes vs Después de limpiar outliers')\n",
    "plt.ylabel('Pago Total')\n",
    "plt.show()"
   ],
   "id": "62e66e11f2fb0f7d",
   "outputs": [],
   "execution_count": null
  },
  {
   "metadata": {},
   "cell_type": "code",
   "source": [
    "# Boxplot para `cantidad` en data_flat (antes y después de limpiar outliers)\n",
    "plt.figure(figsize=(12, 6))\n",
    "\n",
    "# Boxplot para `cantidad` en data_flat (antes de limpiar)\n",
    "sns.boxplot(x='status', y='cantidad', data=pd.DataFrame({\n",
    "    'cantidad': data_flat['cantidad'],\n",
    "    'status': ['Antes'] * len(data_flat)\n",
    "}), color='lightblue', width=0.4)\n",
    "\n",
    "# Boxplot para `cantidad` en data_flat_clean (después de limpiar)\n",
    "sns.boxplot(x='status', y='cantidad', data=pd.DataFrame({\n",
    "    'cantidad': data_flat_clean['cantidad'],\n",
    "    'status': ['Después'] * len(data_flat_clean)\n",
    "}), color='lightgreen', width=0.4)\n",
    "\n",
    "plt.title('Comparativa de Boxplot de cantidad: Antes vs Después de limpiar outliers')\n",
    "plt.ylabel('Cantidad')\n",
    "plt.show()"
   ],
   "id": "befb40052819e0c",
   "outputs": [],
   "execution_count": null
  },
  {
   "metadata": {},
   "cell_type": "code",
   "source": [
    "# Boxplot para `total` en data_flat (antes y después de limpiar outliers)\n",
    "plt.figure(figsize=(12, 6))\n",
    "\n",
    "# Boxplot para `total` en data_flat (antes de limpiar)\n",
    "sns.boxplot(x='status', y='total', data=pd.DataFrame({\n",
    "    'total': data_flat['total'],\n",
    "    'status': ['Antes'] * len(data_flat)\n",
    "}), color='lightblue', width=0.4)\n",
    "\n",
    "# Boxplot para `total` en data_flat_clean (después de limpiar)\n",
    "sns.boxplot(x='status', y='total', data=pd.DataFrame({\n",
    "    'total': data_flat_clean['total'],\n",
    "    'status': ['Después'] * len(data_flat_clean)\n",
    "}), color='lightgreen', width=0.4)\n",
    "\n",
    "plt.title('Comparativa de Boxplot de total: Antes vs Después de limpiar outliers')\n",
    "plt.ylabel('Total')\n",
    "plt.show()"
   ],
   "id": "9b778f1b03c395db",
   "outputs": [],
   "execution_count": null
  },
  {
   "metadata": {},
   "cell_type": "markdown",
   "source": "### TEMA 9",
   "id": "3ca6d0d40565cea9"
  },
  {
   "metadata": {},
   "cell_type": "markdown",
   "source": "#### PREPARACIÓN DE DATOS - CONSTRUCCIÓN",
   "id": "393838f70d994efa"
  },
  {
   "metadata": {},
   "cell_type": "markdown",
   "source": "##### GENERACIÓN DE DATOS",
   "id": "c0f244309b187fc8"
  },
  {
   "metadata": {},
   "cell_type": "markdown",
   "source": "1. ATRIBUTOS DERIVADOS",
   "id": "74894e2950618f96"
  },
  {
   "metadata": {},
   "cell_type": "code",
   "source": [
    "# Calcular el precio unitario de cada producto\n",
    "data_flat_clean['precio_unitario'] = data_flat_clean['total'] / data_flat_clean['cantidad']\n",
    "data_flat_clean[['nombre', 'cantidad', 'total', 'precio_unitario']].head()"
   ],
   "id": "f38beea798c0779c",
   "outputs": [],
   "execution_count": null
  },
  {
   "metadata": {},
   "cell_type": "code",
   "source": [
    "# Total de productos vendidos en una venta\n",
    "data_raw_clean['total_productos'] = data_flat_clean.groupby(['fecha_venta', 'cliente'])['cantidad'].transform('sum')\n",
    "data_raw_clean.head()"
   ],
   "id": "b0629263cf1adaff",
   "outputs": [],
   "execution_count": null
  },
  {
   "metadata": {},
   "cell_type": "markdown",
   "source": "##### TRANSFORMACIÓN DE DATOS",
   "id": "9734b51c9857c6d1"
  },
  {
   "metadata": {},
   "cell_type": "code",
   "source": [
    "# Formatear el tipo de dato fecha_venta a datetime64\n",
    "data_raw_clean['fecha_venta'] = pd.to_datetime(data_raw_clean['fecha_venta'], format='%Y-%m-%d')\n",
    "data_flat_clean['fecha_venta'] = pd.to_datetime(data_flat_clean['fecha_venta'], format='%Y-%m-%d')\n",
    "data_flat_clean['fecha_venta'].head()"
   ],
   "id": "8c2a257abb8dc287",
   "outputs": [],
   "execution_count": null
  },
  {
   "metadata": {},
   "cell_type": "markdown",
   "source": "1. AGREGACIÓN",
   "id": "31bf5183c350b6f6"
  },
  {
   "metadata": {},
   "cell_type": "code",
   "source": "#",
   "id": "2e59c6456f43e501",
   "outputs": [],
   "execution_count": null
  },
  {
   "metadata": {},
   "cell_type": "markdown",
   "source": "2. CONSTRUCCIÓN DE ATRIBUTOS",
   "id": "3e41a85d140c055c"
  },
  {
   "metadata": {},
   "cell_type": "code",
   "source": [
    "# Creación de un nuevo atributo par tipo_venta\n",
    "data_raw_clean['tipo_venta_label'] = data_raw_clean['tipo_venta'].map({0: 'Estandar', 1: 'Promocion'})\n",
    "\n",
    "data_flat_clean['tipo_venta_label'] = data_flat_clean['tipo_venta'].map({0: 'Estandar', 1: 'Promocion'})\n",
    "data_flat_clean.head()"
   ],
   "id": "a71f010040290137",
   "outputs": [],
   "execution_count": null
  },
  {
   "metadata": {},
   "cell_type": "code",
   "source": [
    "meses = {\n",
    "    1: 'enero', 2: 'febrero', 3: 'marzo', 4: 'abril',\n",
    "    5: 'mayo', 6: 'junio', 7: 'julio', 8: 'agosto',\n",
    "    9: 'septiembre', 10: 'octubre', 11: 'noviembre', 12: 'diciembre'\n",
    "}\n",
    "\n",
    "# Extraer año, mes y día de la columna 'fecha_venta'\n",
    "data_raw_clean['año'] = data_raw_clean['fecha_venta'].dt.year\n",
    "data_raw_clean['mes'] = data_raw_clean['fecha_venta'].dt.month.map(meses)\n",
    "data_raw_clean['día'] = data_raw_clean['fecha_venta'].dt.day\n",
    "data_raw_clean['trimestre'] = data_raw_clean['fecha_venta'].dt.quarter\n",
    "\n",
    "# Extraer año, mes y día de la columna 'fecha_venta'\n",
    "data_flat_clean['año'] = data_flat_clean['fecha_venta'].dt.year\n",
    "data_flat_clean['mes'] = data_flat_clean['fecha_venta'].dt.month.map(meses)\n",
    "data_flat_clean['día'] = data_flat_clean['fecha_venta'].dt.day\n",
    "data_flat_clean['trimestre'] = data_flat_clean['fecha_venta'].dt.quarter\n",
    "\n",
    "# Verificar las primeras filas para asegurarnos de que se crearon correctamente\n",
    "data_flat_clean[['fecha_venta', 'año', 'mes', 'día', 'trimestre']].head(100)"
   ],
   "id": "2b3b4b49d497361f",
   "outputs": [],
   "execution_count": null
  },
  {
   "metadata": {},
   "cell_type": "markdown",
   "source": "### TEMA 10",
   "id": "4a0e4f05c1d4e339"
  },
  {
   "metadata": {},
   "cell_type": "code",
   "source": [
    "# Productos más vendidos\n",
    "producto_mas_vendidos = data_flat_clean.groupby('nombre').agg(\n",
    "    total_unidades=('cantidad', 'sum'),\n",
    "    total_ingresos=('total', 'sum'),\n",
    "    prom_unidades=('cantidad', 'mean'),\n",
    ").reset_index()\n",
    "\n",
    "producto_mas_vendidos = producto_mas_vendidos.sort_values(by='total_unidades', ascending=False)\n",
    "producto_mas_vendidos.head()"
   ],
   "id": "9beb4dfd3c960087",
   "outputs": [],
   "execution_count": null
  },
  {
   "metadata": {},
   "cell_type": "code",
   "source": [
    "# Clientes con más compras\n",
    "ventas_por_cliente = data_raw_clean.groupby('cliente').agg(\n",
    "    total_compras=('fecha_venta', 'count'),\n",
    "    total_gasto=('pago_total', 'sum'),\n",
    "    gasto_promedio=('pago_total', 'mean'),\n",
    "    compras_promocion=('tipo_venta', 'mean')\n",
    ").reset_index()\n",
    "\n",
    "ventas_por_cliente = ventas_por_cliente.sort_values(by='total_compras', ascending=False)\n",
    "ventas_por_cliente.head()"
   ],
   "id": "f0e50219bf425441",
   "outputs": [],
   "execution_count": null
  },
  {
   "metadata": {},
   "cell_type": "code",
   "source": [
    "# Agregaciones por tipo de venta\n",
    "impacto_promociones = data_raw_clean.groupby('tipo_venta').agg(\n",
    "    total_ventas=('tipo_venta', 'count'),\n",
    "    total_ingresos=('pago_total', 'sum'),\n",
    "    promedio_ingresos=('pago_total', 'mean'),\n",
    "    promedio_productos=('productos', lambda x: sum(len(p) for p in x) / len(x))\n",
    ").reset_index()\n",
    "\n",
    "# Etiquetas para tipo de venta\n",
    "impacto_promociones['tipo_venta'] = impacto_promociones['tipo_venta'].replace({0: 'Estándar', 1: 'Promoción'})\n",
    "\n",
    "impacto_promociones.head()"
   ],
   "id": "a929299a5e02a8a8",
   "outputs": [],
   "execution_count": null
  },
  {
   "metadata": {},
   "cell_type": "code",
   "source": [
    "# Agregaciones por año y mes\n",
    "data_raw_clean['año'] = data_raw_clean['fecha_venta'].dt.year\n",
    "data_raw_clean['mes'] = data_raw_clean['fecha_venta'].dt.month\n",
    "\n",
    "ventas_por_periodo = data_raw_clean.groupby(['año', 'mes']).agg(\n",
    "    total_ingresos=('pago_total', 'sum'),\n",
    "    total_ventas=('fecha_venta', 'count'),\n",
    "    promedio_ingreso=('pago_total', 'mean')\n",
    ").reset_index()\n",
    "\n",
    "ventas_por_periodo.head()\n"
   ],
   "id": "d473e4ad219ada6",
   "outputs": [],
   "execution_count": null
  },
  {
   "metadata": {},
   "cell_type": "code",
   "source": [
    "# Productos más vendidos por tipo de venta\n",
    "productos_por_tipo = data_flat_clean.groupby(['nombre', 'tipo_venta']).agg(\n",
    "    total_unidades=('cantidad', 'sum'),\n",
    "    total_ingresos=('total', 'sum')\n",
    ").reset_index()\n",
    "\n",
    "productos_por_tipo['tipo_venta'] = productos_por_tipo['tipo_venta'].replace({0: 'Estándar', 1: 'Promoción'})\n",
    "\n",
    "productos_por_tipo.head(100)\n"
   ],
   "id": "f437cd4433c3597d",
   "outputs": [],
   "execution_count": null
  },
  {
   "metadata": {},
   "cell_type": "code",
   "source": [
    "# Extraer el año de la columna 'fecha_venta'\n",
    "data_raw_clean['año'] = data_raw_clean['fecha_venta'].dt.year\n",
    "\n",
    "# Agrupar por año y calcular el total de ventas\n",
    "ventas_por_ano = data_raw_clean.groupby('año').agg(\n",
    "    total_ventas=('pago_total', 'sum'),\n",
    ").reset_index()\n",
    "\n",
    "# Ordenar por año (opcional)\n",
    "ventas_por_ano = ventas_por_ano.sort_values(by='año', ascending=True)\n",
    "\n",
    "# Mostrar la tabla\n",
    "ventas_por_ano.head()"
   ],
   "id": "49904df14bb82f4b",
   "outputs": [],
   "execution_count": null
  },
  {
   "metadata": {},
   "cell_type": "code",
   "source": [
    "# Agrupar por año y trimestre, y calcular el total de ventas\n",
    "ventas_por_trimestre = data_raw_clean.groupby(['año', 'trimestre']).agg(\n",
    "    total_ventas=('pago_total', 'sum'),\n",
    ").reset_index()\n",
    "\n",
    "# Ordenar por año y trimestre (opcional)\n",
    "ventas_por_trimestre = ventas_por_trimestre.sort_values(by=['año', 'trimestre'])\n",
    "\n",
    "# Mostrar la tabla\n",
    "ventas_por_trimestre.head(100)"
   ],
   "id": "2f0aa1026ce473f0",
   "outputs": [],
   "execution_count": null
  },
  {
   "metadata": {},
   "cell_type": "code",
   "source": "data_flat_clean.head()",
   "id": "e115a7832d3d0b3e",
   "outputs": [],
   "execution_count": null
  },
  {
   "metadata": {},
   "cell_type": "markdown",
   "source": "### TEMA 11",
   "id": "161fc4688f42ccc3"
  },
  {
   "metadata": {},
   "cell_type": "markdown",
   "source": "#### ORDENAMOS LOS ATRIBUTOS DE LAS VARIABLES",
   "id": "5f8458eadff17c00"
  },
  {
   "metadata": {},
   "cell_type": "markdown",
   "source": "1. DATA_RAW",
   "id": "572f07e57d2e68ef"
  },
  {
   "metadata": {},
   "cell_type": "code",
   "source": [
    "# Define el orden de las columnas como una lista\n",
    "columnas_ordenadas = [\n",
    "    'tipo_venta',  'tipo_venta_label', 'fecha_venta', 'año', 'mes', 'día', 'trimestre','productos', 'total_productos', 'pago_total', 'cliente'\n",
    "]\n",
    "\n",
    "# Reordenar las columnas en el DataFrame\n",
    "data_raw_clean = data_raw_clean[columnas_ordenadas]\n",
    "\n",
    "# Verificar el nuevo orden\n",
    "print(data_raw_clean.head())"
   ],
   "id": "a6729b26bf7aefad",
   "outputs": [],
   "execution_count": null
  },
  {
   "metadata": {},
   "cell_type": "markdown",
   "source": "2. DATA_FLAT",
   "id": "efb32482c497f471"
  },
  {
   "metadata": {},
   "cell_type": "code",
   "source": [
    "# Definir el orden de las columnas para data_flat_clean\n",
    "columnas_ordenadas_flat = [\n",
    "    'nombre', 'precio_unitario', 'cantidad', 'total', 'tipo_venta', 'tipo_venta_label', 'fecha_venta', 'año', 'mes', 'día', 'trimestre', 'pago_total', 'cliente'\n",
    "]\n",
    "\n",
    "# Reordenar las columnas en data_flat_clean\n",
    "data_flat_clean = data_flat_clean[columnas_ordenadas_flat]\n",
    "\n",
    "# Verificar el nuevo orden\n",
    "print(data_flat_clean.head())"
   ],
   "id": "8842058169cdb44c",
   "outputs": [],
   "execution_count": null
  },
  {
   "metadata": {},
   "cell_type": "markdown",
   "source": "#### EXPORTACIÓN DE LOS DATOS",
   "id": "3d02cd8e1350dd33"
  },
  {
   "metadata": {},
   "cell_type": "markdown",
   "source": "1. DATA_RAW",
   "id": "4f6c59a3b69570d1"
  },
  {
   "metadata": {},
   "cell_type": "code",
   "source": [
    "# Cambiar el formato de fecha_venta a string para que se guarde de manera visible\n",
    "data_raw_copy = data_raw_clean.copy()\n",
    "data_raw_copy['fecha_venta'] = data_raw_copy['fecha_venta'].dt.strftime('%Y-%m-%d')"
   ],
   "id": "5e9a5fd46924ab05",
   "outputs": [],
   "execution_count": null
  },
  {
   "metadata": {},
   "cell_type": "code",
   "source": [
    "# Guardar en formato JSON con indentación\n",
    "data_raw_copy.to_json('data_pura.json', orient='records', lines=False)\n",
    "\n",
    "with open('data_pura.json', 'r', encoding='utf-8') as file:\n",
    "    data = json.load(file)\n",
    "\n",
    "with open('data_pura.json', 'w', encoding='utf-8') as file:\n",
    "    json.dump(data, file, ensure_ascii=False, indent=4)\n",
    "\n",
    "print(\"Archivo data_pura guardado exitosamente.\")"
   ],
   "id": "38ae87f3ddcaef46",
   "outputs": [],
   "execution_count": null
  },
  {
   "metadata": {},
   "cell_type": "markdown",
   "source": "2. DATA_FLAT",
   "id": "9efef85e77e42efb"
  },
  {
   "metadata": {},
   "cell_type": "code",
   "source": [
    "# Cambiar el formato de fecha_venta a string para que se guarde de manera visible\n",
    "data_flat_copy = data_flat_clean.copy()\n",
    "data_flat_copy['fecha_venta'] = data_flat_copy['fecha_venta'].dt.strftime('%Y-%m-%d')"
   ],
   "id": "43c1eb6f3542b3de",
   "outputs": [],
   "execution_count": null
  },
  {
   "metadata": {},
   "cell_type": "code",
   "source": [
    "# Guardar en formato JSON con indentación\n",
    "data_flat_copy.to_json('data_desanidada.json', orient='records', lines=False)\n",
    "\n",
    "with open('data_desanidada.json', 'r', encoding='utf-8') as file:\n",
    "    data = json.load(file)\n",
    "\n",
    "with open('data_desanidada.json', 'w', encoding='utf-8') as file:\n",
    "    json.dump(data, file, ensure_ascii=False, indent=4)\n",
    "\n",
    "print(\"Archivo data_desanidada guardado exitosamente.\")"
   ],
   "id": "30159128d21a8661",
   "outputs": [],
   "execution_count": null
  },
  {
   "metadata": {},
   "cell_type": "markdown",
   "source": "-------",
   "id": "5d92f7edac0ee84c"
  }
 ],
 "metadata": {
  "kernelspec": {
   "display_name": "Python 3",
   "language": "python",
   "name": "python3"
  },
  "language_info": {
   "codemirror_mode": {
    "name": "ipython",
    "version": 2
   },
   "file_extension": ".py",
   "mimetype": "text/x-python",
   "name": "python",
   "nbconvert_exporter": "python",
   "pygments_lexer": "ipython2",
   "version": "2.7.6"
  }
 },
 "nbformat": 4,
 "nbformat_minor": 5
}
